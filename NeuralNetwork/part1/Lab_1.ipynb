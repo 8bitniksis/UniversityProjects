{
  "nbformat": 4,
  "nbformat_minor": 0,
  "metadata": {
    "colab": {
      "provenance": []
    },
    "kernelspec": {
      "name": "python3",
      "display_name": "Python 3"
    },
    "language_info": {
      "name": "python"
    }
  },
  "cells": [
    {
      "cell_type": "code",
      "execution_count": 77,
      "metadata": {
        "id": "HwGKlrOEgoSe"
      },
      "outputs": [],
      "source": [
        "#Импорт необходимых библиотек\n",
        "import numpy as np\n",
        "import tensorflow as tf\n",
        "from tensorflow import keras"
      ]
    },
    {
      "cell_type": "code",
      "source": [
        "a = -50\n",
        "b = 50\n",
        "x1 = np.random.randint(-50, 50, size=50)\n",
        "x2 = np.random.randint(-50, 50, size=50)\n",
        "x3 = np.random.randint(-50, 50, size=50)"
      ],
      "metadata": {
        "id": "eMDhCCWBlM-K"
      },
      "execution_count": 81,
      "outputs": []
    },
    {
      "cell_type": "code",
      "source": [
        "X = np.vstack([x1, x2, x3]).T\n",
        "X"
      ],
      "metadata": {
        "colab": {
          "base_uri": "https://localhost:8080/"
        },
        "id": "6APjUkozlciI",
        "outputId": "20f0d287-3b5e-499c-c28e-1ddd827b6387"
      },
      "execution_count": 70,
      "outputs": [
        {
          "output_type": "execute_result",
          "data": {
            "text/plain": [
              "array([[ 49,   7, -40],\n",
              "       [ 14, -34, -48],\n",
              "       [ 10,  40,  20],\n",
              "       [  4, -23, -11],\n",
              "       [ 30, -40,  -6],\n",
              "       [-14, -10, -36],\n",
              "       [ -9, -40, -22],\n",
              "       [ 10,   2, -49],\n",
              "       [ -4, -19, -45],\n",
              "       [ 24,  34,  43],\n",
              "       [-21,  41, -15],\n",
              "       [ 33,  18,  18],\n",
              "       [ 43,   6,   6],\n",
              "       [-16, -33,  28],\n",
              "       [-26, -45,   6],\n",
              "       [ 46,   0,  26],\n",
              "       [ 42,  22,  43],\n",
              "       [-49,  33,   8],\n",
              "       [  4,   6,  43],\n",
              "       [ -8,  48, -48],\n",
              "       [-21, -36,   6],\n",
              "       [-32, -13, -50],\n",
              "       [-38, -29,  16],\n",
              "       [ 29, -43,  24],\n",
              "       [-14, -16,  22],\n",
              "       [-36,  47, -21],\n",
              "       [  4, -22,   4],\n",
              "       [-24,  43, -43],\n",
              "       [-46, -20,  33],\n",
              "       [-40,  18, -27],\n",
              "       [ 11, -17,  10],\n",
              "       [ 22, -49, -12],\n",
              "       [ 32,  49, -36],\n",
              "       [ 17,  47,   4],\n",
              "       [ 16, -50,  14],\n",
              "       [ 29, -15, -29],\n",
              "       [-36,  22,   8],\n",
              "       [-15,  13,   8],\n",
              "       [  8,  -6, -44],\n",
              "       [ 13,  45,  -5],\n",
              "       [ 40,  -7, -45],\n",
              "       [-49,   2, -31],\n",
              "       [-38,  -8, -31],\n",
              "       [ 49,  24, -23],\n",
              "       [  2,   9, -38],\n",
              "       [ -2, -36,  43],\n",
              "       [ 31,  12,  32],\n",
              "       [-17,  13,  16],\n",
              "       [-39, -24, -22],\n",
              "       [-48, -19,  16]])"
            ]
          },
          "metadata": {},
          "execution_count": 70
        }
      ]
    },
    {
      "cell_type": "code",
      "source": [
        "y = x1 - x2 - x3 + 4\n",
        "y = y[None]\n",
        "y = y.T\n",
        "y"
      ],
      "metadata": {
        "colab": {
          "base_uri": "https://localhost:8080/"
        },
        "id": "k3UtjBqYlgeg",
        "outputId": "316b8dd2-f0bd-47ea-caf3-0b01d24d494a"
      },
      "execution_count": 71,
      "outputs": [
        {
          "output_type": "execute_result",
          "data": {
            "text/plain": [
              "array([[ 86],\n",
              "       [100],\n",
              "       [-46],\n",
              "       [ 42],\n",
              "       [ 80],\n",
              "       [ 36],\n",
              "       [ 57],\n",
              "       [ 61],\n",
              "       [ 64],\n",
              "       [-49],\n",
              "       [-43],\n",
              "       [  1],\n",
              "       [ 35],\n",
              "       [ -7],\n",
              "       [ 17],\n",
              "       [ 24],\n",
              "       [-19],\n",
              "       [-86],\n",
              "       [-41],\n",
              "       [ -4],\n",
              "       [ 13],\n",
              "       [ 35],\n",
              "       [-21],\n",
              "       [ 52],\n",
              "       [-16],\n",
              "       [-58],\n",
              "       [ 26],\n",
              "       [-20],\n",
              "       [-55],\n",
              "       [-27],\n",
              "       [ 22],\n",
              "       [ 87],\n",
              "       [ 23],\n",
              "       [-30],\n",
              "       [ 56],\n",
              "       [ 77],\n",
              "       [-62],\n",
              "       [-32],\n",
              "       [ 62],\n",
              "       [-23],\n",
              "       [ 96],\n",
              "       [-16],\n",
              "       [  5],\n",
              "       [ 52],\n",
              "       [ 35],\n",
              "       [ -5],\n",
              "       [ -9],\n",
              "       [-42],\n",
              "       [ 11],\n",
              "       [-41]])"
            ]
          },
          "metadata": {},
          "execution_count": 71
        }
      ]
    },
    {
      "cell_type": "code",
      "source": [
        "model = keras.Sequential()"
      ],
      "metadata": {
        "id": "fnNeMU2blqyf"
      },
      "execution_count": 84,
      "outputs": []
    },
    {
      "cell_type": "code",
      "source": [
        "model.add(Dense(units=1, input_shape=(3,), activation='linear'))"
      ],
      "metadata": {
        "id": "CoPwHaDLlurn"
      },
      "execution_count": 85,
      "outputs": []
    },
    {
      "cell_type": "code",
      "source": [
        "model.compile(loss='mean_squared_error', optimizer=keras.optimizers.Adam(0.1))"
      ],
      "metadata": {
        "id": "Nny6WP6zl8T3"
      },
      "execution_count": 86,
      "outputs": []
    },
    {
      "cell_type": "code",
      "source": [
        "model.compile(optimizer='sgd', loss='mse', metrics='mae')"
      ],
      "metadata": {
        "id": "1dOnj4tomB-I"
      },
      "execution_count": 75,
      "outputs": []
    },
    {
      "cell_type": "code",
      "source": [
        "log = model.fit(X, y, epochs=500, verbose=False)"
      ],
      "metadata": {
        "id": "NyQKqaD_mEnX"
      },
      "execution_count": 87,
      "outputs": []
    },
    {
      "cell_type": "code",
      "source": [
        "plt.plot(log.history['loss'])\n",
        "plt.grid(True)\n",
        "plt.show()"
      ],
      "metadata": {
        "colab": {
          "base_uri": "https://localhost:8080/",
          "height": 430
        },
        "id": "LJLQNuVYvtUz",
        "outputId": "03871d67-1e55-4fe0-a48a-a1dfc20d433a"
      },
      "execution_count": 88,
      "outputs": [
        {
          "output_type": "display_data",
          "data": {
            "text/plain": [
              "<Figure size 640x480 with 1 Axes>"
            ],
            "image/png": "[encoded data removed]"
          },
          "metadata": {}
        }
      ]
    },
    {
      "cell_type": "code",
      "source": [
        "print(model.predict([[18, -2, 10]]))"
      ],
      "metadata": {
        "colab": {
          "base_uri": "https://localhost:8080/"
        },
        "id": "YfKxGr41Be6D",
        "outputId": "df60b160-14a7-4775-b57b-75b9178f55a6"
      },
      "execution_count": 92,
      "outputs": [
        {
          "output_type": "stream",
          "name": "stdout",
          "text": [
            "1/1 [==============================] - 0s 31ms/step\n",
            "[[14.000001]]\n"
          ]
        }
      ]
    },
    {
      "cell_type": "code",
      "source": [
        "print(model.get_weights())"
      ],
      "metadata": {
        "colab": {
          "base_uri": "https://localhost:8080/"
        },
        "id": "OhYg3J_4B3xz",
        "outputId": "7430a923-2d66-4a12-be53-cefc970de37d"
      },
      "execution_count": 93,
      "outputs": [
        {
          "output_type": "stream",
          "name": "stdout",
          "text": [
            "[array([[ 1.],\n",
            "       [-1.],\n",
            "       [-1.]], dtype=float32), array([4.000001], dtype=float32)]\n"
          ]
        }
      ]
    }
  ]
}