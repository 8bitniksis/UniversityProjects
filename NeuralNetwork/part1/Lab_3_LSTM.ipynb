{
  "nbformat": 4,
  "nbformat_minor": 0,
  "metadata": {
    "colab": {
      "provenance": []
    },
    "kernelspec": {
      "name": "python3",
      "display_name": "Python 3"
    },
    "language_info": {
      "name": "python"
    }
  },
  "cells": [
    {
      "cell_type": "code",
      "execution_count": 26,
      "metadata": {
        "id": "3ennUVNhnj8h"
      },
      "outputs": [],
      "source": [
        "#===Импорт необходимых библиотек\n",
        "import re # работа с регулярными выражениями\n",
        "import pandas as pd # работа с таблицами\n",
        "import matplotlib.pyplot as plt # работа с графиками\n",
        "import seaborn as sns # работа с графиками\n",
        "import numpy as np # операции с массивами и матрицами\n"
      ]
    },
    {
      "cell_type": "code",
      "source": [
        "# чтение датасетов (обучение, тест. валидация)\n",
        "from google.colab import files # для загрузки файлов\n",
        "uploaded = files.upload()\n"
      ],
      "metadata": {
        "colab": {
          "base_uri": "https://localhost:8080/",
          "height": 73
        },
        "id": "J-TooggGo8j9",
        "outputId": "cf06a762-5574-4a9f-87ee-be68e9370df1"
      },
      "execution_count": 27,
      "outputs": [
        {
          "output_type": "display_data",
          "data": {
            "text/plain": [
              "<IPython.core.display.HTML object>"
            ],
            "text/html": [
              "\n",
              "     <input type=\"file\" id=\"files-46ec3a9d-f19a-434f-abb6-9a615474c01d\" name=\"files[]\" multiple disabled\n",
              "        style=\"border:none\" />\n",
              "     <output id=\"result-46ec3a9d-f19a-434f-abb6-9a615474c01d\">\n",
              "      Upload widget is only available when the cell has been executed in the\n",
              "      current browser session. Please rerun this cell to enable.\n",
              "      </output>\n",
              "      <script>// Copyright 2017 Google LLC\n",
              "//\n",
              "// Licensed under the Apache License, Version 2.0 (the \"License\");\n",
              "// you may not use this file except in compliance with the License.\n",
              "// You may obtain a copy of the License at\n",
              "//\n",
              "//      http://www.apache.org/licenses/LICENSE-2.0\n",
              "//\n",
              "// Unless required by applicable law or agreed to in writing, software\n",
              "// distributed under the License is distributed on an \"AS IS\" BASIS,\n",
              "// WITHOUT WARRANTIES OR CONDITIONS OF ANY KIND, either express or implied.\n",
              "// See the License for the specific language governing permissions and\n",
              "// limitations under the License.\n",
              "\n",
              "/**\n",
              " * @fileoverview Helpers for google.colab Python module.\n",
              " */\n",
              "(function(scope) {\n",
              "function span(text, styleAttributes = {}) {\n",
              "  const element = document.createElement('span');\n",
              "  element.textContent = text;\n",
              "  for (const key of Object.keys(styleAttributes)) {\n",
              "    element.style[key] = styleAttributes[key];\n",
              "  }\n",
              "  return element;\n",
              "}\n",
              "\n",
              "// Max number of bytes which will be uploaded at a time.\n",
              "const MAX_PAYLOAD_SIZE = 100 * 1024;\n",
              "\n",
              "function _uploadFiles(inputId, outputId) {\n",
              "  const steps = uploadFilesStep(inputId, outputId);\n",
              "  const outputElement = document.getElementById(outputId);\n",
              "  // Cache steps on the outputElement to make it available for the next call\n",
              "  // to uploadFilesContinue from Python.\n",
              "  outputElement.steps = steps;\n",
              "\n",
              "  return _uploadFilesContinue(outputId);\n",
              "}\n",
              "\n",
              "// This is roughly an async generator (not supported in the browser yet),\n",
              "// where there are multiple asynchronous steps and the Python side is going\n",
              "// to poll for completion of each step.\n",
              "// This uses a Promise to block the python side on completion of each step,\n",
              "// then passes the result of the previous step as the input to the next step.\n",
              "function _uploadFilesContinue(outputId) {\n",
              "  const outputElement = document.getElementById(outputId);\n",
              "  const steps = outputElement.steps;\n",
              "\n",
              "  const next = steps.next(outputElement.lastPromiseValue);\n",
              "  return Promise.resolve(next.value.promise).then((value) => {\n",
              "    // Cache the last promise value to make it available to the next\n",
              "    // step of the generator.\n",
              "    outputElement.lastPromiseValue = value;\n",
              "    return next.value.response;\n",
              "  });\n",
              "}\n",
              "\n",
              "/**\n",
              " * Generator function which is called between each async step of the upload\n",
              " * process.\n",
              " * @param {string} inputId Element ID of the input file picker element.\n",
              " * @param {string} outputId Element ID of the output display.\n",
              " * @return {!Iterable<!Object>} Iterable of next steps.\n",
              " */\n",
              "function* uploadFilesStep(inputId, outputId) {\n",
              "  const inputElement = document.getElementById(inputId);\n",
              "  inputElement.disabled = false;\n",
              "\n",
              "  const outputElement = document.getElementById(outputId);\n",
              "  outputElement.innerHTML = '';\n",
              "\n",
              "  const pickedPromise = new Promise((resolve) => {\n",
              "    inputElement.addEventListener('change', (e) => {\n",
              "      resolve(e.target.files);\n",
              "    });\n",
              "  });\n",
              "\n",
              "  const cancel = document.createElement('button');\n",
              "  inputElement.parentElement.appendChild(cancel);\n",
              "  cancel.textContent = 'Cancel upload';\n",
              "  const cancelPromise = new Promise((resolve) => {\n",
              "    cancel.onclick = () => {\n",
              "      resolve(null);\n",
              "    };\n",
              "  });\n",
              "\n",
              "  // Wait for the user to pick the files.\n",
              "  const files = yield {\n",
              "    promise: Promise.race([pickedPromise, cancelPromise]),\n",
              "    response: {\n",
              "      action: 'starting',\n",
              "    }\n",
              "  };\n",
              "\n",
              "  cancel.remove();\n",
              "\n",
              "  // Disable the input element since further picks are not allowed.\n",
              "  inputElement.disabled = true;\n",
              "\n",
              "  if (!files) {\n",
              "    return {\n",
              "      response: {\n",
              "        action: 'complete',\n",
              "      }\n",
              "    };\n",
              "  }\n",
              "\n",
              "  for (const file of files) {\n",
              "    const li = document.createElement('li');\n",
              "    li.append(span(file.name, {fontWeight: 'bold'}));\n",
              "    li.append(span(\n",
              "        `(${file.type || 'n/a'}) - ${file.size} bytes, ` +\n",
              "        `last modified: ${\n",
              "            file.lastModifiedDate ? file.lastModifiedDate.toLocaleDateString() :\n",
              "                                    'n/a'} - `));\n",
              "    const percent = span('0% done');\n",
              "    li.appendChild(percent);\n",
              "\n",
              "    outputElement.appendChild(li);\n",
              "\n",
              "    const fileDataPromise = new Promise((resolve) => {\n",
              "      const reader = new FileReader();\n",
              "      reader.onload = (e) => {\n",
              "        resolve(e.target.result);\n",
              "      };\n",
              "      reader.readAsArrayBuffer(file);\n",
              "    });\n",
              "    // Wait for the data to be ready.\n",
              "    let fileData = yield {\n",
              "      promise: fileDataPromise,\n",
              "      response: {\n",
              "        action: 'continue',\n",
              "      }\n",
              "    };\n",
              "\n",
              "    // Use a chunked sending to avoid message size limits. See b/62115660.\n",
              "    let position = 0;\n",
              "    do {\n",
              "      const length = Math.min(fileData.byteLength - position, MAX_PAYLOAD_SIZE);\n",
              "      const chunk = new Uint8Array(fileData, position, length);\n",
              "      position += length;\n",
              "\n",
              "      const base64 = btoa(String.fromCharCode.apply(null, chunk));\n",
              "      yield {\n",
              "        response: {\n",
              "          action: 'append',\n",
              "          file: file.name,\n",
              "          data: base64,\n",
              "        },\n",
              "      };\n",
              "\n",
              "      let percentDone = fileData.byteLength === 0 ?\n",
              "          100 :\n",
              "          Math.round((position / fileData.byteLength) * 100);\n",
              "      percent.textContent = `${percentDone}% done`;\n",
              "\n",
              "    } while (position < fileData.byteLength);\n",
              "  }\n",
              "\n",
              "  // All done.\n",
              "  yield {\n",
              "    response: {\n",
              "      action: 'complete',\n",
              "    }\n",
              "  };\n",
              "}\n",
              "\n",
              "scope.google = scope.google || {};\n",
              "scope.google.colab = scope.google.colab || {};\n",
              "scope.google.colab._files = {\n",
              "  _uploadFiles,\n",
              "  _uploadFilesContinue,\n",
              "};\n",
              "})(self);\n",
              "</script> "
            ]
          },
          "metadata": {}
        },
        {
          "output_type": "stream",
          "name": "stdout",
          "text": [
            "Saving dataset_train.txt to dataset_train (4).txt\n"
          ]
        }
      ]
    },
    {
      "cell_type": "code",
      "source": [
        "import io # операции с файлами\n",
        "#датасет для обучения\n",
        "DataTrain_Arr = pd.read_csv(io.BytesIO(uploaded['dataset_train (4).txt']), header=None, sep=';', names=['Выражения','Эмоции'], encoding='utf-8')\n"
      ],
      "metadata": {
        "id": "I5dPwGarpZyM"
      },
      "execution_count": 28,
      "outputs": []
    },
    {
      "cell_type": "code",
      "source": [
        "# чтение датасетов (обучение, тест. валидация)\n",
        "uploaded = files.upload()"
      ],
      "metadata": {
        "colab": {
          "base_uri": "https://localhost:8080/",
          "height": 73
        },
        "id": "kJSDhn_xqgB8",
        "outputId": "80a41488-bda4-426a-bf6a-50ec5cd87ebf"
      },
      "execution_count": 29,
      "outputs": [
        {
          "output_type": "display_data",
          "data": {
            "text/plain": [
              "<IPython.core.display.HTML object>"
            ],
            "text/html": [
              "\n",
              "     <input type=\"file\" id=\"files-e188f367-1873-44d1-ab21-487110ad8c79\" name=\"files[]\" multiple disabled\n",
              "        style=\"border:none\" />\n",
              "     <output id=\"result-e188f367-1873-44d1-ab21-487110ad8c79\">\n",
              "      Upload widget is only available when the cell has been executed in the\n",
              "      current browser session. Please rerun this cell to enable.\n",
              "      </output>\n",
              "      <script>// Copyright 2017 Google LLC\n",
              "//\n",
              "// Licensed under the Apache License, Version 2.0 (the \"License\");\n",
              "// you may not use this file except in compliance with the License.\n",
              "// You may obtain a copy of the License at\n",
              "//\n",
              "//      http://www.apache.org/licenses/LICENSE-2.0\n",
              "//\n",
              "// Unless required by applicable law or agreed to in writing, software\n",
              "// distributed under the License is distributed on an \"AS IS\" BASIS,\n",
              "// WITHOUT WARRANTIES OR CONDITIONS OF ANY KIND, either express or implied.\n",
              "// See the License for the specific language governing permissions and\n",
              "// limitations under the License.\n",
              "\n",
              "/**\n",
              " * @fileoverview Helpers for google.colab Python module.\n",
              " */\n",
              "(function(scope) {\n",
              "function span(text, styleAttributes = {}) {\n",
              "  const element = document.createElement('span');\n",
              "  element.textContent = text;\n",
              "  for (const key of Object.keys(styleAttributes)) {\n",
              "    element.style[key] = styleAttributes[key];\n",
              "  }\n",
              "  return element;\n",
              "}\n",
              "\n",
              "// Max number of bytes which will be uploaded at a time.\n",
              "const MAX_PAYLOAD_SIZE = 100 * 1024;\n",
              "\n",
              "function _uploadFiles(inputId, outputId) {\n",
              "  const steps = uploadFilesStep(inputId, outputId);\n",
              "  const outputElement = document.getElementById(outputId);\n",
              "  // Cache steps on the outputElement to make it available for the next call\n",
              "  // to uploadFilesContinue from Python.\n",
              "  outputElement.steps = steps;\n",
              "\n",
              "  return _uploadFilesContinue(outputId);\n",
              "}\n",
              "\n",
              "// This is roughly an async generator (not supported in the browser yet),\n",
              "// where there are multiple asynchronous steps and the Python side is going\n",
              "// to poll for completion of each step.\n",
              "// This uses a Promise to block the python side on completion of each step,\n",
              "// then passes the result of the previous step as the input to the next step.\n",
              "function _uploadFilesContinue(outputId) {\n",
              "  const outputElement = document.getElementById(outputId);\n",
              "  const steps = outputElement.steps;\n",
              "\n",
              "  const next = steps.next(outputElement.lastPromiseValue);\n",
              "  return Promise.resolve(next.value.promise).then((value) => {\n",
              "    // Cache the last promise value to make it available to the next\n",
              "    // step of the generator.\n",
              "    outputElement.lastPromiseValue = value;\n",
              "    return next.value.response;\n",
              "  });\n",
              "}\n",
              "\n",
              "/**\n",
              " * Generator function which is called between each async step of the upload\n",
              " * process.\n",
              " * @param {string} inputId Element ID of the input file picker element.\n",
              " * @param {string} outputId Element ID of the output display.\n",
              " * @return {!Iterable<!Object>} Iterable of next steps.\n",
              " */\n",
              "function* uploadFilesStep(inputId, outputId) {\n",
              "  const inputElement = document.getElementById(inputId);\n",
              "  inputElement.disabled = false;\n",
              "\n",
              "  const outputElement = document.getElementById(outputId);\n",
              "  outputElement.innerHTML = '';\n",
              "\n",
              "  const pickedPromise = new Promise((resolve) => {\n",
              "    inputElement.addEventListener('change', (e) => {\n",
              "      resolve(e.target.files);\n",
              "    });\n",
              "  });\n",
              "\n",
              "  const cancel = document.createElement('button');\n",
              "  inputElement.parentElement.appendChild(cancel);\n",
              "  cancel.textContent = 'Cancel upload';\n",
              "  const cancelPromise = new Promise((resolve) => {\n",
              "    cancel.onclick = () => {\n",
              "      resolve(null);\n",
              "    };\n",
              "  });\n",
              "\n",
              "  // Wait for the user to pick the files.\n",
              "  const files = yield {\n",
              "    promise: Promise.race([pickedPromise, cancelPromise]),\n",
              "    response: {\n",
              "      action: 'starting',\n",
              "    }\n",
              "  };\n",
              "\n",
              "  cancel.remove();\n",
              "\n",
              "  // Disable the input element since further picks are not allowed.\n",
              "  inputElement.disabled = true;\n",
              "\n",
              "  if (!files) {\n",
              "    return {\n",
              "      response: {\n",
              "        action: 'complete',\n",
              "      }\n",
              "    };\n",
              "  }\n",
              "\n",
              "  for (const file of files) {\n",
              "    const li = document.createElement('li');\n",
              "    li.append(span(file.name, {fontWeight: 'bold'}));\n",
              "    li.append(span(\n",
              "        `(${file.type || 'n/a'}) - ${file.size} bytes, ` +\n",
              "        `last modified: ${\n",
              "            file.lastModifiedDate ? file.lastModifiedDate.toLocaleDateString() :\n",
              "                                    'n/a'} - `));\n",
              "    const percent = span('0% done');\n",
              "    li.appendChild(percent);\n",
              "\n",
              "    outputElement.appendChild(li);\n",
              "\n",
              "    const fileDataPromise = new Promise((resolve) => {\n",
              "      const reader = new FileReader();\n",
              "      reader.onload = (e) => {\n",
              "        resolve(e.target.result);\n",
              "      };\n",
              "      reader.readAsArrayBuffer(file);\n",
              "    });\n",
              "    // Wait for the data to be ready.\n",
              "    let fileData = yield {\n",
              "      promise: fileDataPromise,\n",
              "      response: {\n",
              "        action: 'continue',\n",
              "      }\n",
              "    };\n",
              "\n",
              "    // Use a chunked sending to avoid message size limits. See b/62115660.\n",
              "    let position = 0;\n",
              "    do {\n",
              "      const length = Math.min(fileData.byteLength - position, MAX_PAYLOAD_SIZE);\n",
              "      const chunk = new Uint8Array(fileData, position, length);\n",
              "      position += length;\n",
              "\n",
              "      const base64 = btoa(String.fromCharCode.apply(null, chunk));\n",
              "      yield {\n",
              "        response: {\n",
              "          action: 'append',\n",
              "          file: file.name,\n",
              "          data: base64,\n",
              "        },\n",
              "      };\n",
              "\n",
              "      let percentDone = fileData.byteLength === 0 ?\n",
              "          100 :\n",
              "          Math.round((position / fileData.byteLength) * 100);\n",
              "      percent.textContent = `${percentDone}% done`;\n",
              "\n",
              "    } while (position < fileData.byteLength);\n",
              "  }\n",
              "\n",
              "  // All done.\n",
              "  yield {\n",
              "    response: {\n",
              "      action: 'complete',\n",
              "    }\n",
              "  };\n",
              "}\n",
              "\n",
              "scope.google = scope.google || {};\n",
              "scope.google.colab = scope.google.colab || {};\n",
              "scope.google.colab._files = {\n",
              "  _uploadFiles,\n",
              "  _uploadFilesContinue,\n",
              "};\n",
              "})(self);\n",
              "</script> "
            ]
          },
          "metadata": {}
        },
        {
          "output_type": "stream",
          "name": "stdout",
          "text": [
            "Saving dataset_test.txt to dataset_test (3).txt\n"
          ]
        }
      ]
    },
    {
      "cell_type": "code",
      "source": [
        "DataTest_Arr = pd.read_csv(io.BytesIO(uploaded['dataset_test (3).txt']), header=None, sep=';', names=['Выражения','Эмоции'], encoding='utf-8')"
      ],
      "metadata": {
        "id": "d0l-Gg82qhR8"
      },
      "execution_count": 30,
      "outputs": []
    },
    {
      "cell_type": "code",
      "source": [
        "# чтение датасетов (обучение, тест. валидация)\n",
        "uploaded = files.upload()"
      ],
      "metadata": {
        "colab": {
          "base_uri": "https://localhost:8080/",
          "height": 73
        },
        "id": "JrLSgkXpqmyl",
        "outputId": "58c4bb21-ac74-4878-bc00-6bf9aaf38a98"
      },
      "execution_count": 31,
      "outputs": [
        {
          "output_type": "display_data",
          "data": {
            "text/plain": [
              "<IPython.core.display.HTML object>"
            ],
            "text/html": [
              "\n",
              "     <input type=\"file\" id=\"files-3dedcc0f-101e-4dde-85a2-e534c2854c95\" name=\"files[]\" multiple disabled\n",
              "        style=\"border:none\" />\n",
              "     <output id=\"result-3dedcc0f-101e-4dde-85a2-e534c2854c95\">\n",
              "      Upload widget is only available when the cell has been executed in the\n",
              "      current browser session. Please rerun this cell to enable.\n",
              "      </output>\n",
              "      <script>// Copyright 2017 Google LLC\n",
              "//\n",
              "// Licensed under the Apache License, Version 2.0 (the \"License\");\n",
              "// you may not use this file except in compliance with the License.\n",
              "// You may obtain a copy of the License at\n",
              "//\n",
              "//      http://www.apache.org/licenses/LICENSE-2.0\n",
              "//\n",
              "// Unless required by applicable law or agreed to in writing, software\n",
              "// distributed under the License is distributed on an \"AS IS\" BASIS,\n",
              "// WITHOUT WARRANTIES OR CONDITIONS OF ANY KIND, either express or implied.\n",
              "// See the License for the specific language governing permissions and\n",
              "// limitations under the License.\n",
              "\n",
              "/**\n",
              " * @fileoverview Helpers for google.colab Python module.\n",
              " */\n",
              "(function(scope) {\n",
              "function span(text, styleAttributes = {}) {\n",
              "  const element = document.createElement('span');\n",
              "  element.textContent = text;\n",
              "  for (const key of Object.keys(styleAttributes)) {\n",
              "    element.style[key] = styleAttributes[key];\n",
              "  }\n",
              "  return element;\n",
              "}\n",
              "\n",
              "// Max number of bytes which will be uploaded at a time.\n",
              "const MAX_PAYLOAD_SIZE = 100 * 1024;\n",
              "\n",
              "function _uploadFiles(inputId, outputId) {\n",
              "  const steps = uploadFilesStep(inputId, outputId);\n",
              "  const outputElement = document.getElementById(outputId);\n",
              "  // Cache steps on the outputElement to make it available for the next call\n",
              "  // to uploadFilesContinue from Python.\n",
              "  outputElement.steps = steps;\n",
              "\n",
              "  return _uploadFilesContinue(outputId);\n",
              "}\n",
              "\n",
              "// This is roughly an async generator (not supported in the browser yet),\n",
              "// where there are multiple asynchronous steps and the Python side is going\n",
              "// to poll for completion of each step.\n",
              "// This uses a Promise to block the python side on completion of each step,\n",
              "// then passes the result of the previous step as the input to the next step.\n",
              "function _uploadFilesContinue(outputId) {\n",
              "  const outputElement = document.getElementById(outputId);\n",
              "  const steps = outputElement.steps;\n",
              "\n",
              "  const next = steps.next(outputElement.lastPromiseValue);\n",
              "  return Promise.resolve(next.value.promise).then((value) => {\n",
              "    // Cache the last promise value to make it available to the next\n",
              "    // step of the generator.\n",
              "    outputElement.lastPromiseValue = value;\n",
              "    return next.value.response;\n",
              "  });\n",
              "}\n",
              "\n",
              "/**\n",
              " * Generator function which is called between each async step of the upload\n",
              " * process.\n",
              " * @param {string} inputId Element ID of the input file picker element.\n",
              " * @param {string} outputId Element ID of the output display.\n",
              " * @return {!Iterable<!Object>} Iterable of next steps.\n",
              " */\n",
              "function* uploadFilesStep(inputId, outputId) {\n",
              "  const inputElement = document.getElementById(inputId);\n",
              "  inputElement.disabled = false;\n",
              "\n",
              "  const outputElement = document.getElementById(outputId);\n",
              "  outputElement.innerHTML = '';\n",
              "\n",
              "  const pickedPromise = new Promise((resolve) => {\n",
              "    inputElement.addEventListener('change', (e) => {\n",
              "      resolve(e.target.files);\n",
              "    });\n",
              "  });\n",
              "\n",
              "  const cancel = document.createElement('button');\n",
              "  inputElement.parentElement.appendChild(cancel);\n",
              "  cancel.textContent = 'Cancel upload';\n",
              "  const cancelPromise = new Promise((resolve) => {\n",
              "    cancel.onclick = () => {\n",
              "      resolve(null);\n",
              "    };\n",
              "  });\n",
              "\n",
              "  // Wait for the user to pick the files.\n",
              "  const files = yield {\n",
              "    promise: Promise.race([pickedPromise, cancelPromise]),\n",
              "    response: {\n",
              "      action: 'starting',\n",
              "    }\n",
              "  };\n",
              "\n",
              "  cancel.remove();\n",
              "\n",
              "  // Disable the input element since further picks are not allowed.\n",
              "  inputElement.disabled = true;\n",
              "\n",
              "  if (!files) {\n",
              "    return {\n",
              "      response: {\n",
              "        action: 'complete',\n",
              "      }\n",
              "    };\n",
              "  }\n",
              "\n",
              "  for (const file of files) {\n",
              "    const li = document.createElement('li');\n",
              "    li.append(span(file.name, {fontWeight: 'bold'}));\n",
              "    li.append(span(\n",
              "        `(${file.type || 'n/a'}) - ${file.size} bytes, ` +\n",
              "        `last modified: ${\n",
              "            file.lastModifiedDate ? file.lastModifiedDate.toLocaleDateString() :\n",
              "                                    'n/a'} - `));\n",
              "    const percent = span('0% done');\n",
              "    li.appendChild(percent);\n",
              "\n",
              "    outputElement.appendChild(li);\n",
              "\n",
              "    const fileDataPromise = new Promise((resolve) => {\n",
              "      const reader = new FileReader();\n",
              "      reader.onload = (e) => {\n",
              "        resolve(e.target.result);\n",
              "      };\n",
              "      reader.readAsArrayBuffer(file);\n",
              "    });\n",
              "    // Wait for the data to be ready.\n",
              "    let fileData = yield {\n",
              "      promise: fileDataPromise,\n",
              "      response: {\n",
              "        action: 'continue',\n",
              "      }\n",
              "    };\n",
              "\n",
              "    // Use a chunked sending to avoid message size limits. See b/62115660.\n",
              "    let position = 0;\n",
              "    do {\n",
              "      const length = Math.min(fileData.byteLength - position, MAX_PAYLOAD_SIZE);\n",
              "      const chunk = new Uint8Array(fileData, position, length);\n",
              "      position += length;\n",
              "\n",
              "      const base64 = btoa(String.fromCharCode.apply(null, chunk));\n",
              "      yield {\n",
              "        response: {\n",
              "          action: 'append',\n",
              "          file: file.name,\n",
              "          data: base64,\n",
              "        },\n",
              "      };\n",
              "\n",
              "      let percentDone = fileData.byteLength === 0 ?\n",
              "          100 :\n",
              "          Math.round((position / fileData.byteLength) * 100);\n",
              "      percent.textContent = `${percentDone}% done`;\n",
              "\n",
              "    } while (position < fileData.byteLength);\n",
              "  }\n",
              "\n",
              "  // All done.\n",
              "  yield {\n",
              "    response: {\n",
              "      action: 'complete',\n",
              "    }\n",
              "  };\n",
              "}\n",
              "\n",
              "scope.google = scope.google || {};\n",
              "scope.google.colab = scope.google.colab || {};\n",
              "scope.google.colab._files = {\n",
              "  _uploadFiles,\n",
              "  _uploadFilesContinue,\n",
              "};\n",
              "})(self);\n",
              "</script> "
            ]
          },
          "metadata": {}
        },
        {
          "output_type": "stream",
          "name": "stdout",
          "text": [
            "Saving dataset_validation.txt to dataset_validation (1).txt\n"
          ]
        }
      ]
    },
    {
      "cell_type": "code",
      "source": [
        "DataValidation_Arr = pd.read_csv(io.BytesIO(uploaded['dataset_validation (1).txt']), header=None, sep=';', names=['Выражения','Эмоции'], encoding='utf-8')"
      ],
      "metadata": {
        "id": "9sKnlQdtqpFe"
      },
      "execution_count": 32,
      "outputs": []
    },
    {
      "cell_type": "code",
      "source": [
        "#===добавление столбца с закодированными эмоциями\n",
        "ems_to_classes = {'anger': 0, 'love': 1, 'fear': 2, 'joy': 3, 'sadness': 4,'surprise': 5}\n",
        "classes_to_ems = {j:i for i,j in ems_to_classes.items()}\n",
        "\n",
        "DataTrain_Arr['Classes'] = DataTrain_Arr['Эмоции'].replace(ems_to_classes)\n",
        "DataTest_Arr['Classes'] = DataTest_Arr['Эмоции'].replace(ems_to_classes)\n",
        "DataValidation_Arr['Classes'] = DataValidation_Arr['Эмоции'].replace(ems_to_classes)"
      ],
      "metadata": {
        "id": "o9gZebdHsbyz"
      },
      "execution_count": 33,
      "outputs": []
    },
    {
      "cell_type": "code",
      "source": [
        "DataTrain_Arr.head()"
      ],
      "metadata": {
        "colab": {
          "base_uri": "https://localhost:8080/",
          "height": 206
        },
        "id": "wXFjZvU0tf90",
        "outputId": "2ab7f453-85ea-4603-8140-1d6543ad1f71"
      },
      "execution_count": 34,
      "outputs": [
        {
          "output_type": "execute_result",
          "data": {
            "text/plain": [
              "                                           Выражения   Эмоции  Classes\n",
              "0                            i didnt feel humiliated  sadness        4\n",
              "1  i can go from feeling so hopeless to so damned...  sadness        4\n",
              "2   im grabbing a minute to post i feel greedy wrong    anger        0\n",
              "3  i am ever feeling nostalgic about the fireplac...     love        1\n",
              "4                               i am feeling grouchy    anger        0"
            ],
            "text/html": [
              "\n",
              "  <div id=\"df-6454bc85-640e-4247-95a1-30659dfeb6e6\" class=\"colab-df-container\">\n",
              "    <div>\n",
              "<style scoped>\n",
              "    .dataframe tbody tr th:only-of-type {\n",
              "        vertical-align: middle;\n",
              "    }\n",
              "\n",
              "    .dataframe tbody tr th {\n",
              "        vertical-align: top;\n",
              "    }\n",
              "\n",
              "    .dataframe thead th {\n",
              "        text-align: right;\n",
              "    }\n",
              "</style>\n",
              "<table border=\"1\" class=\"dataframe\">\n",
              "  <thead>\n",
              "    <tr style=\"text-align: right;\">\n",
              "      <th></th>\n",
              "      <th>Выражения</th>\n",
              "      <th>Эмоции</th>\n",
              "      <th>Classes</th>\n",
              "    </tr>\n",
              "  </thead>\n",
              "  <tbody>\n",
              "    <tr>\n",
              "      <th>0</th>\n",
              "      <td>i didnt feel humiliated</td>\n",
              "      <td>sadness</td>\n",
              "      <td>4</td>\n",
              "    </tr>\n",
              "    <tr>\n",
              "      <th>1</th>\n",
              "      <td>i can go from feeling so hopeless to so damned...</td>\n",
              "      <td>sadness</td>\n",
              "      <td>4</td>\n",
              "    </tr>\n",
              "    <tr>\n",
              "      <th>2</th>\n",
              "      <td>im grabbing a minute to post i feel greedy wrong</td>\n",
              "      <td>anger</td>\n",
              "      <td>0</td>\n",
              "    </tr>\n",
              "    <tr>\n",
              "      <th>3</th>\n",
              "      <td>i am ever feeling nostalgic about the fireplac...</td>\n",
              "      <td>love</td>\n",
              "      <td>1</td>\n",
              "    </tr>\n",
              "    <tr>\n",
              "      <th>4</th>\n",
              "      <td>i am feeling grouchy</td>\n",
              "      <td>anger</td>\n",
              "      <td>0</td>\n",
              "    </tr>\n",
              "  </tbody>\n",
              "</table>\n",
              "</div>\n",
              "    <div class=\"colab-df-buttons\">\n",
              "\n",
              "  <div class=\"colab-df-container\">\n",
              "    <button class=\"colab-df-convert\" onclick=\"convertToInteractive('df-6454bc85-640e-4247-95a1-30659dfeb6e6')\"\n",
              "            title=\"Convert this dataframe to an interactive table.\"\n",
              "            style=\"display:none;\">\n",
              "\n",
              "  <svg xmlns=\"http://www.w3.org/2000/svg\" height=\"24px\" viewBox=\"0 -960 960 960\">\n",
              "    <path d=\"M120-120v-720h720v720H120Zm60-500h600v-160H180v160Zm220 220h160v-160H400v160Zm0 220h160v-160H400v160ZM180-400h160v-160H180v160Zm440 0h160v-160H620v160ZM180-180h160v-160H180v160Zm440 0h160v-160H620v160Z\"/>\n",
              "  </svg>\n",
              "    </button>\n",
              "\n",
              "  <style>\n",
              "    .colab-df-container {\n",
              "      display:flex;\n",
              "      gap: 12px;\n",
              "    }\n",
              "\n",
              "    .colab-df-convert {\n",
              "      background-color: #E8F0FE;\n",
              "      border: none;\n",
              "      border-radius: 50%;\n",
              "      cursor: pointer;\n",
              "      display: none;\n",
              "      fill: #1967D2;\n",
              "      height: 32px;\n",
              "      padding: 0 0 0 0;\n",
              "      width: 32px;\n",
              "    }\n",
              "\n",
              "    .colab-df-convert:hover {\n",
              "      background-color: #E2EBFA;\n",
              "      box-shadow: 0px 1px 2px rgba(60, 64, 67, 0.3), 0px 1px 3px 1px rgba(60, 64, 67, 0.15);\n",
              "      fill: #174EA6;\n",
              "    }\n",
              "\n",
              "    .colab-df-buttons div {\n",
              "      margin-bottom: 4px;\n",
              "    }\n",
              "\n",
              "    [theme=dark] .colab-df-convert {\n",
              "      background-color: #3B4455;\n",
              "      fill: #D2E3FC;\n",
              "    }\n",
              "\n",
              "    [theme=dark] .colab-df-convert:hover {\n",
              "      background-color: #434B5C;\n",
              "      box-shadow: 0px 1px 3px 1px rgba(0, 0, 0, 0.15);\n",
              "      filter: drop-shadow(0px 1px 2px rgba(0, 0, 0, 0.3));\n",
              "      fill: #FFFFFF;\n",
              "    }\n",
              "  </style>\n",
              "\n",
              "    <script>\n",
              "      const buttonEl =\n",
              "        document.querySelector('#df-6454bc85-640e-4247-95a1-30659dfeb6e6 button.colab-df-convert');\n",
              "      buttonEl.style.display =\n",
              "        google.colab.kernel.accessAllowed ? 'block' : 'none';\n",
              "\n",
              "      async function convertToInteractive(key) {\n",
              "        const element = document.querySelector('#df-6454bc85-640e-4247-95a1-30659dfeb6e6');\n",
              "        const dataTable =\n",
              "          await google.colab.kernel.invokeFunction('convertToInteractive',\n",
              "                                                    [key], {});\n",
              "        if (!dataTable) return;\n",
              "\n",
              "        const docLinkHtml = 'Like what you see? Visit the ' +\n",
              "          '<a target=\"_blank\" href=https://colab.research.google.com/notebooks/data_table.ipynb>data table notebook</a>'\n",
              "          + ' to learn more about interactive tables.';\n",
              "        element.innerHTML = '';\n",
              "        dataTable['output_type'] = 'display_data';\n",
              "        await google.colab.output.renderOutput(dataTable, element);\n",
              "        const docLink = document.createElement('div');\n",
              "        docLink.innerHTML = docLinkHtml;\n",
              "        element.appendChild(docLink);\n",
              "      }\n",
              "    </script>\n",
              "  </div>\n",
              "\n",
              "\n",
              "<div id=\"df-31c00d7a-fa86-4cbf-b61d-ce771e6419ce\">\n",
              "  <button class=\"colab-df-quickchart\" onclick=\"quickchart('df-31c00d7a-fa86-4cbf-b61d-ce771e6419ce')\"\n",
              "            title=\"Suggest charts.\"\n",
              "            style=\"display:none;\">\n",
              "\n",
              "<svg xmlns=\"http://www.w3.org/2000/svg\" height=\"24px\"viewBox=\"0 0 24 24\"\n",
              "     width=\"24px\">\n",
              "    <g>\n",
              "        <path d=\"M19 3H5c-1.1 0-2 .9-2 2v14c0 1.1.9 2 2 2h14c1.1 0 2-.9 2-2V5c0-1.1-.9-2-2-2zM9 17H7v-7h2v7zm4 0h-2V7h2v10zm4 0h-2v-4h2v4z\"/>\n",
              "    </g>\n",
              "</svg>\n",
              "  </button>\n",
              "\n",
              "<style>\n",
              "  .colab-df-quickchart {\n",
              "      --bg-color: #E8F0FE;\n",
              "      --fill-color: #1967D2;\n",
              "      --hover-bg-color: #E2EBFA;\n",
              "      --hover-fill-color: #174EA6;\n",
              "      --disabled-fill-color: #AAA;\n",
              "      --disabled-bg-color: #DDD;\n",
              "  }\n",
              "\n",
              "  [theme=dark] .colab-df-quickchart {\n",
              "      --bg-color: #3B4455;\n",
              "      --fill-color: #D2E3FC;\n",
              "      --hover-bg-color: #434B5C;\n",
              "      --hover-fill-color: #FFFFFF;\n",
              "      --disabled-bg-color: #3B4455;\n",
              "      --disabled-fill-color: #666;\n",
              "  }\n",
              "\n",
              "  .colab-df-quickchart {\n",
              "    background-color: var(--bg-color);\n",
              "    border: none;\n",
              "    border-radius: 50%;\n",
              "    cursor: pointer;\n",
              "    display: none;\n",
              "    fill: var(--fill-color);\n",
              "    height: 32px;\n",
              "    padding: 0;\n",
              "    width: 32px;\n",
              "  }\n",
              "\n",
              "  .colab-df-quickchart:hover {\n",
              "    background-color: var(--hover-bg-color);\n",
              "    box-shadow: 0 1px 2px rgba(60, 64, 67, 0.3), 0 1px 3px 1px rgba(60, 64, 67, 0.15);\n",
              "    fill: var(--button-hover-fill-color);\n",
              "  }\n",
              "\n",
              "  .colab-df-quickchart-complete:disabled,\n",
              "  .colab-df-quickchart-complete:disabled:hover {\n",
              "    background-color: var(--disabled-bg-color);\n",
              "    fill: var(--disabled-fill-color);\n",
              "    box-shadow: none;\n",
              "  }\n",
              "\n",
              "  .colab-df-spinner {\n",
              "    border: 2px solid var(--fill-color);\n",
              "    border-color: transparent;\n",
              "    border-bottom-color: var(--fill-color);\n",
              "    animation:\n",
              "      spin 1s steps(1) infinite;\n",
              "  }\n",
              "\n",
              "  @keyframes spin {\n",
              "    0% {\n",
              "      border-color: transparent;\n",
              "      border-bottom-color: var(--fill-color);\n",
              "      border-left-color: var(--fill-color);\n",
              "    }\n",
              "    20% {\n",
              "      border-color: transparent;\n",
              "      border-left-color: var(--fill-color);\n",
              "      border-top-color: var(--fill-color);\n",
              "    }\n",
              "    30% {\n",
              "      border-color: transparent;\n",
              "      border-left-color: var(--fill-color);\n",
              "      border-top-color: var(--fill-color);\n",
              "      border-right-color: var(--fill-color);\n",
              "    }\n",
              "    40% {\n",
              "      border-color: transparent;\n",
              "      border-right-color: var(--fill-color);\n",
              "      border-top-color: var(--fill-color);\n",
              "    }\n",
              "    60% {\n",
              "      border-color: transparent;\n",
              "      border-right-color: var(--fill-color);\n",
              "    }\n",
              "    80% {\n",
              "      border-color: transparent;\n",
              "      border-right-color: var(--fill-color);\n",
              "      border-bottom-color: var(--fill-color);\n",
              "    }\n",
              "    90% {\n",
              "      border-color: transparent;\n",
              "      border-bottom-color: var(--fill-color);\n",
              "    }\n",
              "  }\n",
              "</style>\n",
              "\n",
              "  <script>\n",
              "    async function quickchart(key) {\n",
              "      const quickchartButtonEl =\n",
              "        document.querySelector('#' + key + ' button');\n",
              "      quickchartButtonEl.disabled = true;  // To prevent multiple clicks.\n",
              "      quickchartButtonEl.classList.add('colab-df-spinner');\n",
              "      try {\n",
              "        const charts = await google.colab.kernel.invokeFunction(\n",
              "            'suggestCharts', [key], {});\n",
              "      } catch (error) {\n",
              "        console.error('Error during call to suggestCharts:', error);\n",
              "      }\n",
              "      quickchartButtonEl.classList.remove('colab-df-spinner');\n",
              "      quickchartButtonEl.classList.add('colab-df-quickchart-complete');\n",
              "    }\n",
              "    (() => {\n",
              "      let quickchartButtonEl =\n",
              "        document.querySelector('#df-31c00d7a-fa86-4cbf-b61d-ce771e6419ce button');\n",
              "      quickchartButtonEl.style.display =\n",
              "        google.colab.kernel.accessAllowed ? 'block' : 'none';\n",
              "    })();\n",
              "  </script>\n",
              "</div>\n",
              "    </div>\n",
              "  </div>\n"
            ]
          },
          "metadata": {},
          "execution_count": 34
        }
      ]
    },
    {
      "cell_type": "code",
      "source": [
        "def Func_EmotionsShow(dataframe_loc, title='the'):\n",
        "  '''\n",
        "  Вход - фрейм данных со столбцом 'Эмоции' и заголовок набора данных (например,\n",
        "  'train').\n",
        "  Выход - гистограмма с количеством элементов каждой категории.\n",
        "\n",
        "  '''\n",
        "  # создание серии pandas с классами и их количеством\n",
        "  classes_quantity = dataframe_loc['Эмоции'].value_counts()\n",
        "\n",
        "  # количество уникальных категорий\n",
        "  x_barchart = range(dataframe_loc['Эмоции'].nunique())\n",
        "  # список классов\n",
        "  x_barchart_classes = [str(ems_to_classes[em]) +\\\n",
        "                       ' - ' + em for em in list(classes_quantity.index)]\n",
        "\n",
        "  # подсчет количества\n",
        "  y_barchart = list(classes_quantity.values)\n",
        "\n",
        "  # создание диаграммы\n",
        "  plt.figure(figsize = (5, 4))\n",
        "  plt.bar(x_barchart, y_barchart, color='#707bfb')\n",
        "\n",
        "  # добавление кол-ва элемент ов для каждой категории на графике в виде текста\n",
        "  for ind, info in enumerate(y_barchart):\n",
        "    plt.text(x = ind,\n",
        "            y = info+max(y_barchart)/100,\n",
        "            s = '{}'.format(info),\n",
        "            fontdict = dict(fontsize=10),\n",
        "            ha = 'center',)\n",
        "\n",
        "  plt.xticks(x_barchart, x_barchart_classes, rotation=40)\n",
        "  plt.title('Кол-во эл-тов каждой категории для {} датасета'.format(title))\n",
        "  plt.tight_layout()\n",
        "\n",
        "  print('Всего {} записей в датасете.\\n'.format(len(dataframe_loc.index)))\n",
        "\n",
        "  plt.show()"
      ],
      "metadata": {
        "id": "mtveaTOktxlb"
      },
      "execution_count": 35,
      "outputs": []
    },
    {
      "cell_type": "code",
      "source": [
        "Func_EmotionsShow(DataTrain_Arr, 'train')\n",
        "Func_EmotionsShow(DataTest_Arr, 'test')\n",
        "Func_EmotionsShow(DataValidation_Arr, 'validation')"
      ],
      "metadata": {
        "colab": {
          "base_uri": "https://localhost:8080/",
          "height": 1000
        },
        "id": "5q73Y7giyBr6",
        "outputId": "36a78821-52fd-4a43-e04e-21d3092d30f0"
      },
      "execution_count": 36,
      "outputs": [
        {
          "output_type": "stream",
          "name": "stdout",
          "text": [
            "Всего 16000 записей в датасете.\n",
            "\n"
          ]
        },
        {
          "output_type": "display_data",
          "data": {
            "text/plain": [
              "<Figure size 500x400 with 1 Axes>"
            ],
            "image/png": "[encoded data removed]"
          },
          "metadata": {}
        },
        {
          "output_type": "stream",
          "name": "stdout",
          "text": [
            "Всего 2000 записей в датасете.\n",
            "\n"
          ]
        },
        {
          "output_type": "display_data",
          "data": {
            "text/plain": [
              "<Figure size 500x400 with 1 Axes>"
            ],
            "image/png": "[encoded data removed]"
          },
          "metadata": {}
        },
        {
          "output_type": "stream",
          "name": "stdout",
          "text": [
            "Всего 2000 записей в датасете.\n",
            "\n"
          ]
        },
        {
          "output_type": "display_data",
          "data": {
            "text/plain": [
              "<Figure size 500x400 with 1 Axes>"
            ],
            "image/png": "[encoded data removed]"
          },
          "metadata": {}
        }
      ]
    },
    {
      "cell_type": "code",
      "source": [
        "#=====================================================Предварительная обработка текста\n",
        "import nltk\n",
        "nltk.download('punkt')\n",
        "nltk.download('stopwords')\n",
        "from nltk.corpus import stopwords\n",
        "\n",
        "# загрузка списка стоп-слов\n",
        "STOPWORDS = set(stopwords.words('english'))\n",
        "\n",
        "# tokenizer\n",
        "from nltk.tokenize import word_tokenize"
      ],
      "metadata": {
        "colab": {
          "base_uri": "https://localhost:8080/"
        },
        "id": "tBle-i7IyfYZ",
        "outputId": "1a247685-12c8-4f4c-933d-c69f4fcbb494"
      },
      "execution_count": 37,
      "outputs": [
        {
          "output_type": "stream",
          "name": "stderr",
          "text": [
            "[nltk_data] Downloading package punkt to /root/nltk_data...\n",
            "[nltk_data]   Unzipping tokenizers/punkt.zip.\n",
            "[nltk_data] Downloading package stopwords to /root/nltk_data...\n",
            "[nltk_data]   Unzipping corpora/stopwords.zip.\n"
          ]
        }
      ]
    },
    {
      "cell_type": "markdown",
      "source": [
        "Текст в наборе данных кажется достаточно 'чистым', поэтому не требует большого количества шагов предварительной обработки, а только удаления стоп-слов и разбиения на токены."
      ],
      "metadata": {
        "id": "4Fwkm9qwy3ih"
      }
    },
    {
      "cell_type": "code",
      "source": [
        "def Func_TP(t_loc, sw_loc=False):\n",
        "  '''\n",
        "  Вход - текст (одна строка) и\n",
        "  параметры предварительной обработки\n",
        "  Выход - предварительно обработанный текст\n",
        "\n",
        "  '''\n",
        "  # очистка текста от стоп-слов\n",
        "  t_loc = re.sub(r'\\W+', ' ', t_loc).lower()\n",
        "\n",
        "  # разбиение текста на токены\n",
        "  tokens = word_tokenize(t_loc)\n",
        "\n",
        "  if sw_loc:\n",
        "    # удаление стоп-слов\n",
        "    tokens = [token for token in tokens if token not in STOPWORDS]\n",
        "\n",
        "  return tokens"
      ],
      "metadata": {
        "id": "RBAAPxSWy9nx"
      },
      "execution_count": 38,
      "outputs": []
    },
    {
      "cell_type": "code",
      "source": [
        "print('До предварительной обработки: ')\n",
        "print(DataTrain_Arr.head())\n",
        "\n",
        "x_train = [Func_TP(t, sw_loc=True) for t in DataTrain_Arr['Выражения']]\n",
        "y_train = DataTrain_Arr['Classes'].values\n",
        "\n",
        "print('\\nПосле предварительной обработки:')\n",
        "for exp_and_classes in list(zip(x_train[:5], y_train[:5])):\n",
        "  print(exp_and_classes)"
      ],
      "metadata": {
        "colab": {
          "base_uri": "https://localhost:8080/"
        },
        "id": "4PaMSnVfzryH",
        "outputId": "84d92b74-34ab-4aac-a7a3-1633098b59db"
      },
      "execution_count": 42,
      "outputs": [
        {
          "output_type": "stream",
          "name": "stdout",
          "text": [
            "До предварительной обработки: \n",
            "                                           Выражения   Эмоции  Classes\n",
            "0                            i didnt feel humiliated  sadness        4\n",
            "1  i can go from feeling so hopeless to so damned...  sadness        4\n",
            "2   im grabbing a minute to post i feel greedy wrong    anger        0\n",
            "3  i am ever feeling nostalgic about the fireplac...     love        1\n",
            "4                               i am feeling grouchy    anger        0\n",
            "\n",
            "После предварительной обработки:\n",
            "(['didnt', 'feel', 'humiliated'], 4)\n",
            "(['go', 'feeling', 'hopeless', 'damned', 'hopeful', 'around', 'someone', 'cares', 'awake'], 4)\n",
            "(['im', 'grabbing', 'minute', 'post', 'feel', 'greedy', 'wrong'], 0)\n",
            "(['ever', 'feeling', 'nostalgic', 'fireplace', 'know', 'still', 'property'], 1)\n",
            "(['feeling', 'grouchy'], 0)\n"
          ]
        }
      ]
    },
    {
      "cell_type": "code",
      "source": [
        "x_test = [Func_TP(t, sw_loc=True) for t in DataTest_Arr['Выражения']]\n",
        "y_test = DataTest_Arr['Classes'].values\n",
        "\n",
        "x_validation = [Func_TP(t, sw_loc=True) for t in DataValidation_Arr['Выражения']]\n",
        "y_validation = DataValidation_Arr['Classes'].values"
      ],
      "metadata": {
        "id": "HfwNC-Hi1TDK"
      },
      "execution_count": 43,
      "outputs": []
    },
    {
      "cell_type": "markdown",
      "source": [
        "**Вложения слов**\n",
        "Некоторые слова могут быть специфичными для этого набора данных, поэтому  используется комбинация предварительно обученной модели fastText и модели Word2vec, обученной на наборе данных.\n",
        "\n",
        "Встречаемость слов в наборе должна быть >=2, остатки, вероятно, являются опечатками или терминами, не имеющими смыслового значения."
      ],
      "metadata": {
        "id": "g3wE6ZJH1zLI"
      }
    },
    {
      "cell_type": "code",
      "source": [
        "# загрузка предварительно обученной модели\n",
        "import gensim.downloader as api\n",
        "model_wiki = api.load('fasttext-wiki-news-subwords-300')"
      ],
      "metadata": {
        "colab": {
          "base_uri": "https://localhost:8080/"
        },
        "id": "QcT7Xcor2G7h",
        "outputId": "0e7321ac-b64a-4850-c511-d3e0cf2b0c6f"
      },
      "execution_count": 44,
      "outputs": [
        {
          "output_type": "stream",
          "name": "stdout",
          "text": [
            "[==================================================] 100.0% 958.5/958.4MB downloaded\n"
          ]
        }
      ]
    },
    {
      "cell_type": "code",
      "source": [
        "from gensim.models import Word2Vec\n",
        "\n",
        "# обучение word2vec модели на наборе (корпусе) данных\n",
        "model_w2v = Word2Vec(x_train + x_test + x_validation,          # данные для модели обучения\n",
        "                 vector_size = 300,                            # размер вектора внедрения\n",
        "                 min_count = 2).wv"
      ],
      "metadata": {
        "id": "WOMfrs-u2phx"
      },
      "execution_count": 45,
      "outputs": []
    },
    {
      "cell_type": "markdown",
      "source": [
        "**Преобразование предложений в векторы**"
      ],
      "metadata": {
        "id": "E0UYqJs34nFg"
      }
    },
    {
      "cell_type": "code",
      "source": [
        "from tensorflow.keras.preprocessing.text import Tokenizer"
      ],
      "metadata": {
        "id": "m6akr8XV4tPZ"
      },
      "execution_count": 46,
      "outputs": []
    },
    {
      "cell_type": "code",
      "source": [
        "DICT_SIZE = 15000\n",
        "\n",
        "# создание словаря наиболее часто встречающихся слов,\n",
        "# в котором количество слов соответствует DICT_SIZE\n",
        "tokenizer = Tokenizer(num_words=DICT_SIZE)\n",
        "total_words = x_train + x_train + x_validation\n",
        "tokenizer.fit_on_texts(total_words)"
      ],
      "metadata": {
        "id": "0C6QXX5T40KI"
      },
      "execution_count": 47,
      "outputs": []
    },
    {
      "cell_type": "code",
      "source": [
        "# слова и соответствующие им индексы\n",
        "list(tokenizer.word_index.items())[:5]"
      ],
      "metadata": {
        "colab": {
          "base_uri": "https://localhost:8080/"
        },
        "id": "1lxFrxda5K2Q",
        "outputId": "712403f1-49ad-4758-92da-0953d5a0a365"
      },
      "execution_count": 48,
      "outputs": [
        {
          "output_type": "execute_result",
          "data": {
            "text/plain": [
              "[('feel', 1), ('feeling', 2), ('like', 3), ('im', 4), ('really', 5)]"
            ]
          },
          "metadata": {},
          "execution_count": 48
        }
      ]
    },
    {
      "cell_type": "code",
      "source": [
        "# кол-во уникальных слов в корпусе (наборе) данных\n",
        "len(tokenizer.word_index)"
      ],
      "metadata": {
        "colab": {
          "base_uri": "https://localhost:8080/"
        },
        "id": "knlro1fU5XL_",
        "outputId": "9d9c363f-1e8b-4d7a-991c-f0ff9df6f353"
      },
      "execution_count": 49,
      "outputs": [
        {
          "output_type": "execute_result",
          "data": {
            "text/plain": [
              "16045"
            ]
          },
          "metadata": {},
          "execution_count": 49
        }
      ]
    },
    {
      "cell_type": "code",
      "source": [
        "# поиск наибольшей длины предложения во всех частях набора данных (обучение,\n",
        "# тест, валидация)\n",
        "x_train_max_length = max([len(i) for i in x_train])\n",
        "x_test_max_length = max([len(i) for i in x_test])\n",
        "x_validation_max_length = max([len(i) for i in x_validation])\n",
        "\n",
        "MAX_LEN = max(x_train_max_length, x_test_max_length, x_validation_max_length)"
      ],
      "metadata": {
        "id": "-yv-l_oZ5gf_"
      },
      "execution_count": 51,
      "outputs": []
    },
    {
      "cell_type": "code",
      "source": [
        "# наибольшая длина предложения составляет\n",
        "MAX_LEN"
      ],
      "metadata": {
        "colab": {
          "base_uri": "https://localhost:8080/"
        },
        "id": "ochAdpM56BlA",
        "outputId": "0bf62c5f-6bbd-4f50-c47c-bcb308f3e727"
      },
      "execution_count": 52,
      "outputs": [
        {
          "output_type": "execute_result",
          "data": {
            "text/plain": [
              "35"
            ]
          },
          "metadata": {},
          "execution_count": 52
        }
      ]
    },
    {
      "cell_type": "code",
      "source": [
        "from tensorflow.keras.preprocessing.sequence import pad_sequences"
      ],
      "metadata": {
        "id": "20cM--RY6Juw"
      },
      "execution_count": 53,
      "outputs": []
    },
    {
      "cell_type": "code",
      "source": [
        "# замена слов на их индексы,\n",
        "# замена размера векторов на MAX_LEN дозаполнение индексами\n",
        "X_train = tokenizer.texts_to_sequences(x_train)\n",
        "X_train_add = pad_sequences(X_train, maxlen=MAX_LEN)\n",
        "\n",
        "X_test = tokenizer.texts_to_sequences(x_test)\n",
        "X_test_add = pad_sequences(X_test, maxlen=MAX_LEN)\n",
        "\n",
        "X_validation = tokenizer.texts_to_sequences(x_validation)\n",
        "X_validation_add = pad_sequences(X_validation, maxlen=MAX_LEN)"
      ],
      "metadata": {
        "id": "N2Of5KYk6Lr_"
      },
      "execution_count": 55,
      "outputs": []
    },
    {
      "cell_type": "code",
      "source": [
        "# Пример замены слов на их индексы\n",
        "X_train[0]"
      ],
      "metadata": {
        "colab": {
          "base_uri": "https://localhost:8080/"
        },
        "id": "jiDX7kLS6rtx",
        "outputId": "57180872-8bd0-4989-a269-86ff94064157"
      },
      "execution_count": 56,
      "outputs": [
        {
          "output_type": "execute_result",
          "data": {
            "text/plain": [
              "[51, 1, 556]"
            ]
          },
          "metadata": {},
          "execution_count": 56
        }
      ]
    },
    {
      "cell_type": "code",
      "source": [
        "# предложения после дополнения (дозаполнения)\n",
        "X_train_add[0]"
      ],
      "metadata": {
        "colab": {
          "base_uri": "https://localhost:8080/"
        },
        "id": "QpZku-wV630P",
        "outputId": "5ce6da32-ce5c-424d-d59c-45ae4344884e"
      },
      "execution_count": 57,
      "outputs": [
        {
          "output_type": "execute_result",
          "data": {
            "text/plain": [
              "array([  0,   0,   0,   0,   0,   0,   0,   0,   0,   0,   0,   0,   0,\n",
              "         0,   0,   0,   0,   0,   0,   0,   0,   0,   0,   0,   0,   0,\n",
              "         0,   0,   0,   0,   0,   0,  51,   1, 556], dtype=int32)"
            ]
          },
          "metadata": {},
          "execution_count": 57
        }
      ]
    },
    {
      "cell_type": "markdown",
      "source": [
        "**Матрица внедрения (вложений)**"
      ],
      "metadata": {
        "id": "IEJU-e987HR3"
      }
    },
    {
      "cell_type": "code",
      "source": [
        "def Func_MatrixOfWeights(mod_loc, secmod_loc=False):\n",
        "  '''\n",
        "  Вход - модель встраивания (внедрения) слов и\n",
        "         вторая модель (опционально)\n",
        "  Выход - матрица весов размера m x n, где\n",
        "          m - размер словаря,\n",
        "          n - размер вектора встраивания слова\n",
        "\n",
        "  '''\n",
        "  vec_length = mod_loc.get_vector('like').shape[0]\n",
        "  weight_matr = np.zeros((DICT_SIZE, vec_length))\n",
        "  words_skipped_vector = []\n",
        "\n",
        "  for w_current, ind_current in tokenizer.word_index.items():\n",
        "    if ind_current < DICT_SIZE:\n",
        "      if w_current in mod_loc.key_to_index:\n",
        "        weight_matr[ind_current] = mod_loc.get_vector(w_current)\n",
        "      else:\n",
        "        if secmod_loc:\n",
        "          if w_current in secmod_loc.key_to_index:\n",
        "            weight_matr[ind_current] = secmod_loc.get_vector(w_current)\n",
        "          else:\n",
        "            words_skipped_vector.append(w_current)\n",
        "        else:\n",
        "          words_skipped_vector.append(w_current)\n",
        "\n",
        "  print(f'{len(words_skipped_vector)} слова были пропущены. Некоторые из них:')\n",
        "  print(words_skipped_vector[:50])\n",
        "  return weight_matr"
      ],
      "metadata": {
        "id": "pi2gF5Yq7NZu"
      },
      "execution_count": 59,
      "outputs": []
    },
    {
      "cell_type": "code",
      "source": [
        "Weight_Matr = Func_MatrixOfWeights(model_wiki, model_w2v)"
      ],
      "metadata": {
        "colab": {
          "base_uri": "https://localhost:8080/"
        },
        "id": "dMdEHtMX8zzv",
        "outputId": "46f7f4e3-7d99-4aa7-b321-c5e7a38260fa"
      },
      "execution_count": 60,
      "outputs": [
        {
          "output_type": "stream",
          "name": "stdout",
          "text": [
            "991 слова были пропущены. Некоторые из них:\n",
            "['jacynthe', 'rupaul', 'kayle', 'gerling', 'mxm', 'dannika', 'hyperchondria', 'manitz', 'educationg', 'gosman', 'montauk', 'bummin', 'wheeeeee', 'underwears', 'olivias', 'bandhu', 'uplifter', 'suicidalness', 'dykey', 'provokingbeauty', 'bodypump', 'honkerblonked', 'clermont', 'instructables', 'janne', 'suominen', 'kamiki', 'nozomi', 'nonchan', 'beaubronz', 'docrat', 'allthingsbucks', 'irresponcible', 'scruncher', 'utf', 'isprivate', 'ismobile', 'mobileclass', 'isprivateblog', 'languagedirection', 'feedlinks', 'lorena', 'handss', 'nervs', 'mommyhood', 'nowwwwww', 'whitleys', 'forelorn', 'baachan', 'covingtons']\n"
          ]
        }
      ]
    },
    {
      "cell_type": "code",
      "source": [
        "Weight_Matr.shape"
      ],
      "metadata": {
        "colab": {
          "base_uri": "https://localhost:8080/"
        },
        "id": "RMoE1LZV9QDg",
        "outputId": "09cc92bd-d8f2-41c2-8eb9-60a69130b827"
      },
      "execution_count": 61,
      "outputs": [
        {
          "output_type": "execute_result",
          "data": {
            "text/plain": [
              "(15000, 300)"
            ]
          },
          "metadata": {},
          "execution_count": 61
        }
      ]
    },
    {
      "cell_type": "markdown",
      "source": [
        "**DL модель**"
      ],
      "metadata": {
        "id": "joEJGQ4B9YcP"
      }
    },
    {
      "cell_type": "code",
      "source": [
        "# импорт моделей, слоев, оптимизаторов из tensorflow\n",
        "from tensorflow.keras.models import Sequential\n",
        "from tensorflow.keras.layers import Embedding, LSTM, Bidirectional, Dense, Dropout\n",
        "from tensorflow.keras.optimizers import Adam"
      ],
      "metadata": {
        "id": "PEXPzDfC9bbv"
      },
      "execution_count": 62,
      "outputs": []
    },
    {
      "cell_type": "code",
      "source": [
        "# импорт и инициализация ранней остановки\n",
        "from tensorflow.keras.callbacks import EarlyStopping\n",
        "stop = EarlyStopping(monitor='val_loss', mode='min', verbose=1, patience=3)"
      ],
      "metadata": {
        "id": "zuPOP1ih9p3n"
      },
      "execution_count": 63,
      "outputs": []
    },
    {
      "cell_type": "code",
      "source": [
        "# инициализация последовательной модели\n",
        "model = Sequential()\n",
        "model.add(Embedding(input_dim = DICT_SIZE, # весь словарный запас (размер словаря)\n",
        "                    output_dim = Weight_Matr.shape[1], # размерность весового вектора\n",
        "                    input_length = X_train_add.shape[1], # максимальная длина предложения\n",
        "                    weights=[Weight_Matr], # присваивание веса внедрения с помощью матрицы внедрения\n",
        "                    trainable=False)) # установка веса, который неволзможно обучать (статического)"
      ],
      "metadata": {
        "id": "EZzzSke791xo"
      },
      "execution_count": 64,
      "outputs": []
    },
    {
      "cell_type": "code",
      "source": [
        "model.add(Bidirectional(LSTM(128, return_sequences=True)))\n",
        "model.add(Dropout(0.2))\n",
        "model.add(Bidirectional(LSTM(256, return_sequences=True)))\n",
        "model.add(Dropout(0.2))\n",
        "model.add(Bidirectional(LSTM(128, return_sequences=False)))\n",
        "model.add(Dense(6, activation = 'softmax'))\n",
        "model.compile(loss='sparse_categorical_crossentropy', optimizer='adam', metrics='accuracy')"
      ],
      "metadata": {
        "id": "nMsDMd0w-orP"
      },
      "execution_count": 65,
      "outputs": []
    },
    {
      "cell_type": "code",
      "source": [
        "history = model.fit(X_train_add, y_train,\n",
        "                    validation_data = (X_validation_add, y_validation),\n",
        "                    batch_size = 8,\n",
        "                    epochs = 20,\n",
        "                    callbacks = stop)"
      ],
      "metadata": {
        "colab": {
          "base_uri": "https://localhost:8080/"
        },
        "id": "i58aAQjP-unv",
        "outputId": "a3a32629-428e-4d95-9651-5ad66ec42780"
      },
      "execution_count": 66,
      "outputs": [
        {
          "output_type": "stream",
          "name": "stdout",
          "text": [
            "Epoch 1/20\n",
            "2000/2000 [==============================] - 818s 404ms/step - loss: 0.8981 - accuracy: 0.6737 - val_loss: 0.3570 - val_accuracy: 0.8825\n",
            "Epoch 2/20\n",
            "2000/2000 [==============================] - 798s 399ms/step - loss: 0.2589 - accuracy: 0.9025 - val_loss: 0.1762 - val_accuracy: 0.9210\n",
            "Epoch 3/20\n",
            "2000/2000 [==============================] - 797s 398ms/step - loss: 0.1678 - accuracy: 0.9269 - val_loss: 0.1420 - val_accuracy: 0.9300\n",
            "Epoch 4/20\n",
            "2000/2000 [==============================] - 801s 401ms/step - loss: 0.1356 - accuracy: 0.9339 - val_loss: 0.1407 - val_accuracy: 0.9365\n",
            "Epoch 5/20\n",
            "2000/2000 [==============================] - 806s 403ms/step - loss: 0.1225 - accuracy: 0.9414 - val_loss: 0.1332 - val_accuracy: 0.9380\n",
            "Epoch 6/20\n",
            "2000/2000 [==============================] - 809s 405ms/step - loss: 0.1132 - accuracy: 0.9404 - val_loss: 0.1478 - val_accuracy: 0.9310\n",
            "Epoch 7/20\n",
            "2000/2000 [==============================] - 808s 404ms/step - loss: 0.1067 - accuracy: 0.9433 - val_loss: 0.1331 - val_accuracy: 0.9320\n",
            "Epoch 8/20\n",
            "2000/2000 [==============================] - 801s 401ms/step - loss: 0.1022 - accuracy: 0.9448 - val_loss: 0.1273 - val_accuracy: 0.9375\n",
            "Epoch 9/20\n",
            "2000/2000 [==============================] - 799s 399ms/step - loss: 0.0961 - accuracy: 0.9503 - val_loss: 0.1278 - val_accuracy: 0.9395\n",
            "Epoch 10/20\n",
            "2000/2000 [==============================] - 787s 394ms/step - loss: 0.0952 - accuracy: 0.9501 - val_loss: 0.1237 - val_accuracy: 0.9410\n",
            "Epoch 11/20\n",
            "2000/2000 [==============================] - 795s 397ms/step - loss: 0.0886 - accuracy: 0.9536 - val_loss: 0.1313 - val_accuracy: 0.9370\n",
            "Epoch 12/20\n",
            "2000/2000 [==============================] - 792s 396ms/step - loss: 0.0816 - accuracy: 0.9579 - val_loss: 0.1345 - val_accuracy: 0.9400\n",
            "Epoch 13/20\n",
            "2000/2000 [==============================] - 797s 398ms/step - loss: 0.0806 - accuracy: 0.9591 - val_loss: 0.1491 - val_accuracy: 0.9355\n",
            "Epoch 13: early stopping\n"
          ]
        }
      ]
    },
    {
      "cell_type": "markdown",
      "source": [
        "**Оценка модели**\n",
        "\n",
        "Графики точности обучения, тестирования и потерь"
      ],
      "metadata": {
        "id": "1vuSUXjmm9x7"
      }
    },
    {
      "cell_type": "code",
      "source": [
        "def Func_ViewStat(history):\n",
        "    '''\n",
        "    Графики точности и потерь обучающей и\n",
        "    валидационной выборок\n",
        "    Вход - hisory (объект Keras.callback.History)\n",
        "    Выход - нет значений\n",
        "    '''\n",
        "    l_value = history.history['loss']\n",
        "    a_value = history.history['accuracy']\n",
        "    l_value_value = history.history['val_loss']\n",
        "    a_value_valuel = history.history['val_accuracy']\n",
        "    x = range(1, len(l_value) + 1)\n",
        "\n",
        "    plt.figure(figsize=(12, 5))\n",
        "    plt.subplot(1, 2, 1)\n",
        "    plt.plot(x, a_value, label='Точность обучения', color='#707bfb')\n",
        "    plt.plot(x, a_value_valuel, label='Точность валидации', color='#fbcbff')\n",
        "    plt.title('Точность обучения и валидации')\n",
        "    plt.grid(True)\n",
        "    plt.legend()\n",
        "\n",
        "    plt.subplot(1, 2, 2)\n",
        "    plt.plot(x, l_value, label='Потери обучения', color='#707bfb')\n",
        "    plt.plot(x, l_value_value, label='Потери валидации', color='#fbcbff')\n",
        "    plt.title('Потери обучения и валидации')\n",
        "    plt.grid(True)\n",
        "    plt.legend()"
      ],
      "metadata": {
        "id": "59wVBoklnJG8"
      },
      "execution_count": 68,
      "outputs": []
    },
    {
      "cell_type": "code",
      "source": [
        "#===Вызов функции построения графиков\n",
        "Func_ViewStat(history)"
      ],
      "metadata": {
        "colab": {
          "base_uri": "https://localhost:8080/",
          "height": 468
        },
        "id": "4TYWf81roTxx",
        "outputId": "99f6503c-9c7d-4f2b-a658-9564ed772065"
      },
      "execution_count": 69,
      "outputs": [
        {
          "output_type": "display_data",
          "data": {
            "text/plain": [
              "<Figure size 1200x500 with 2 Axes>"
            ],
            "image/png": "[encoded data removed]"
          },
          "metadata": {}
        }
      ]
    },
    {
      "cell_type": "markdown",
      "source": [
        "Точность модели на тестовых данных"
      ],
      "metadata": {
        "id": "o0XNDq5wosQi"
      }
    },
    {
      "cell_type": "code",
      "source": [
        "model.evaluate(X_test_add, y_test)"
      ],
      "metadata": {
        "colab": {
          "base_uri": "https://localhost:8080/"
        },
        "id": "87SjUeZJou-y",
        "outputId": "82468c79-29fb-47f4-fdc8-08eac46f2652"
      },
      "execution_count": 70,
      "outputs": [
        {
          "output_type": "stream",
          "name": "stdout",
          "text": [
            "63/63 [==============================] - 15s 179ms/step - loss: 0.1614 - accuracy: 0.9295\n"
          ]
        },
        {
          "output_type": "execute_result",
          "data": {
            "text/plain": [
              "[0.16140452027320862, 0.9294999837875366]"
            ]
          },
          "metadata": {},
          "execution_count": 70
        }
      ]
    },
    {
      "cell_type": "code",
      "source": [
        "y_pred = np.argmax(model.predict(X_test_add), axis=1)"
      ],
      "metadata": {
        "colab": {
          "base_uri": "https://localhost:8080/"
        },
        "id": "kSceOPEppBsS",
        "outputId": "145d3a87-c4f6-4adc-c984-323a24a0eaac"
      },
      "execution_count": 71,
      "outputs": [
        {
          "output_type": "stream",
          "name": "stdout",
          "text": [
            "63/63 [==============================] - 14s 189ms/step\n"
          ]
        }
      ]
    },
    {
      "cell_type": "markdown",
      "source": [
        "Точность, отклик, F1-метрика на тестовых данных"
      ],
      "metadata": {
        "id": "S1zcsTRjpPGp"
      }
    },
    {
      "cell_type": "code",
      "source": [
        "from sklearn import metrics\n",
        "print(metrics.classification_report(y_test, y_pred))"
      ],
      "metadata": {
        "colab": {
          "base_uri": "https://localhost:8080/"
        },
        "id": "SWhKRBYNpYIh",
        "outputId": "336e7357-5a17-4e04-9d6d-0db290d31d49"
      },
      "execution_count": 72,
      "outputs": [
        {
          "output_type": "stream",
          "name": "stdout",
          "text": [
            "              precision    recall  f1-score   support\n",
            "\n",
            "           0       0.96      0.90      0.93       275\n",
            "           1       0.82      0.85      0.84       159\n",
            "           2       0.86      0.92      0.89       224\n",
            "           3       0.95      0.95      0.95       695\n",
            "           4       0.96      0.98      0.97       581\n",
            "           5       0.80      0.68      0.74        66\n",
            "\n",
            "    accuracy                           0.93      2000\n",
            "   macro avg       0.89      0.88      0.88      2000\n",
            "weighted avg       0.93      0.93      0.93      2000\n",
            "\n"
          ]
        }
      ]
    },
    {
      "cell_type": "markdown",
      "source": [
        "Матрица путаницы"
      ],
      "metadata": {
        "id": "86Nb3r60phkp"
      }
    },
    {
      "cell_type": "code",
      "source": [
        "# установка пользовательской цветовой схемы\n",
        "from matplotlib.colors import LinearSegmentedColormap\n",
        "colors = ['#ffffff', '#fbcbff', '#707bfb']\n",
        "cmap = LinearSegmentedColormap.from_list('mycmap', colors)"
      ],
      "metadata": {
        "id": "fRgB4bE1pjVx"
      },
      "execution_count": 73,
      "outputs": []
    },
    {
      "cell_type": "code",
      "source": [
        "def Func_ViewCMatr(matr_loc, fmt_loc=''):\n",
        "  '''\n",
        "  Вход - матрица путаницы и параметр формата\n",
        "  Показывает матрицу в виде тепловой карты\n",
        "  Выход - нет параметров\n",
        "\n",
        "  '''\n",
        "  plt.figure(figsize=(6, 5))\n",
        "  sns.heatmap(matr_loc, annot=True,\n",
        "              cmap=cmap,\n",
        "              fmt=fmt_loc,\n",
        "              xticklabels=ems_to_classes.keys(),\n",
        "              yticklabels=ems_to_classes.keys())\n",
        "  plt.ylabel('Фактические классы')\n",
        "  plt.xlabel('Предсказанные классы')\n",
        "  plt.show()"
      ],
      "metadata": {
        "id": "J4g9FIMQpwFq"
      },
      "execution_count": 87,
      "outputs": []
    },
    {
      "cell_type": "code",
      "source": [
        "res_matr = metrics.confusion_matrix(y_test, y_pred)\n",
        "Func_ViewCMatr(res_matr)"
      ],
      "metadata": {
        "colab": {
          "base_uri": "https://localhost:8080/",
          "height": 465
        },
        "id": "qNZAxIcNqYUK",
        "outputId": "6fcfdf0c-0ade-46e8-c603-b7d50091f3b3"
      },
      "execution_count": 88,
      "outputs": [
        {
          "output_type": "display_data",
          "data": {
            "text/plain": [
              "<Figure size 600x500 with 2 Axes>"
            ],
            "image/png": "[encoded data removed]"
          },
          "metadata": {}
        }
      ]
    },
    {
      "cell_type": "code",
      "source": [
        "# формирование новой матрицы путаницы\n",
        "# где значения нормированы по строкам\n",
        "res_matr_new = np.zeros(res_matr.shape)\n",
        "\n",
        "for row_current in range(len(res_matr)):\n",
        "  sum_temp = np.sum(res_matr[row_current])\n",
        "  for element_current in range(len(res_matr[row_current])):\n",
        "    res_matr_new[row_current][element_current] = res_matr[row_current][element_current] / sum_temp\n",
        "\n",
        "Func_ViewCMatr(res_matr_new, fmt_loc='.2')"
      ],
      "metadata": {
        "colab": {
          "base_uri": "https://localhost:8080/",
          "height": 465
        },
        "id": "pgTD9V_hqoha",
        "outputId": "315d8a18-27e6-44f0-f424-9befdc463c4e"
      },
      "execution_count": 89,
      "outputs": [
        {
          "output_type": "display_data",
          "data": {
            "text/plain": [
              "<Figure size 600x500 with 2 Axes>"
            ],
            "image/png": "[encoded data removed]"
          },
          "metadata": {}
        }
      ]
    },
    {
      "cell_type": "markdown",
      "source": [
        "**Тестирование модели на данных пользователя**"
      ],
      "metadata": {
        "id": "16rVfGoxr01Y"
      }
    },
    {
      "cell_type": "code",
      "source": [
        "def Func_Predict(user_text):\n",
        "  '''\n",
        "  Вход  - строка или массив (если несколько строк)\n",
        "  Выдает само предложение и соответствующую ему эмоцию\n",
        "  Выход - ничего\n",
        "\n",
        "  '''\n",
        "  tp = [Func_TP(t_current) for t_current in user_text]\n",
        "  sequences = tokenizer.texts_to_sequences(tp)\n",
        "  pad = pad_sequences(sequences, maxlen=MAX_LEN)\n",
        "\n",
        "  predictions = model.predict(pad)\n",
        "  labels = np.argmax(predictions, axis=1)\n",
        "\n",
        "  for i, lbl in enumerate(labels):\n",
        "    print(f'\\'{user_text[i]}\\' --> {classes_to_ems[lbl]}')"
      ],
      "metadata": {
        "id": "-lHfoi2Fr44Q"
      },
      "execution_count": 81,
      "outputs": []
    },
    {
      "cell_type": "code",
      "source": [
        "test_texts = ['I am so happy', 'I feel lonely', 'The guests felt satisfied']\n",
        "\n",
        "Func_Predict(test_texts)"
      ],
      "metadata": {
        "colab": {
          "base_uri": "https://localhost:8080/"
        },
        "id": "HaXeqXDEtICu",
        "outputId": "e46b8b81-9ae4-4e91-e4da-1a22560105de"
      },
      "execution_count": 86,
      "outputs": [
        {
          "output_type": "stream",
          "name": "stdout",
          "text": [
            "1/1 [==============================] - 0s 114ms/step\n",
            "'I am so happy' --> joy\n",
            "'I feel lonely' --> sadness\n",
            "'The guests felt satisfied' --> joy\n"
          ]
        }
      ]
    }
  ]
}